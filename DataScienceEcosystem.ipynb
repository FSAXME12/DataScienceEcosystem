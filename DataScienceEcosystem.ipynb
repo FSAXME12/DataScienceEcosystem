{
 "cells": [
  {
   "cell_type": "markdown",
   "id": "e403e5ce-7659-4c03-bd15-da06a8a41f6c",
   "metadata": {},
   "source": [
    "# Data Science Tools and Ecosystem"
   ]
  },
  {
   "cell_type": "markdown",
   "id": "6042f411-f7e5-42c6-bb0d-8c7b5c92e349",
   "metadata": {},
   "source": [
    "En este cuaderno, se resumen las herramientas y ecosistemas de ciencia de datos."
   ]
  },
  {
   "cell_type": "markdown",
   "id": "1c1338dd-79f6-4639-9e39-2ea2850ca901",
   "metadata": {},
   "source": [
    "**Objetivos:**\n",
    "- Listar lenguajes populares para Ciencia de Datos\n",
    "- Identificar bibliotecas de Ciencia de Datos\n",
    "- Mostrar herramientas de Ciencia de Datos\n",
    "- Evaluar expresiones aritméticas en Python"
   ]
  },
  {
   "cell_type": "markdown",
   "id": "849a0bc9-7790-4e80-91a6-e753451abbb5",
   "metadata": {},
   "source": [
    "Algunos de los lenguajes populares que utilizan los científicos de datos son:\n",
    "1. Python\n",
    "2. R\n",
    "3. SQL"
   ]
  },
  {
   "cell_type": "markdown",
   "id": "8ff97ecb-32a7-4c7f-894b-0d8f55bfc269",
   "metadata": {},
   "source": [
    "Algunas de las bibliotecas comúnmente utilizadas por los científicos de datos incluyen:\n",
    "1. Pandas\n",
    "2. NumPy\n",
    "3. Scikit-learn"
   ]
  },
  {
   "cell_type": "markdown",
   "id": "09d78f67-e1c9-45b8-b253-c9083d29f893",
   "metadata": {},
   "source": [
    "| Herramientas de Ciencia de Datos |\n",
    "|-----------------------------------|\n",
    "| Jupyter Notebook                  |\n",
    "| RStudio                           |\n",
    "| Visual Studio Code                |"
   ]
  },
  {
   "cell_type": "markdown",
   "id": "952ff232-fc01-46fe-9458-15df4e4c7256",
   "metadata": {},
   "source": [
    "### A continuación, se presentan algunos ejemplos de evaluación de expresiones aritméticas en Python."
   ]
  },
  {
   "cell_type": "code",
   "execution_count": 8,
   "id": "b0aeadbe-ec54-4a86-8202-97e084783288",
   "metadata": {},
   "outputs": [
    {
     "data": {
      "text/plain": [
       "17"
      ]
     },
     "execution_count": 8,
     "metadata": {},
     "output_type": "execute_result"
    }
   ],
   "source": [
    "# Esta es una expresión aritmética simple para multiplicar y luego sumar enteros.\n",
    "(3 * 4) + 5"
   ]
  },
  {
   "cell_type": "code",
   "execution_count": 10,
   "id": "dc95eacb-1ee0-4e69-b361-d3ff91bb6fd5",
   "metadata": {},
   "outputs": [
    {
     "data": {
      "text/plain": [
       "3.3333333333333335"
      ]
     },
     "execution_count": 10,
     "metadata": {},
     "output_type": "execute_result"
    }
   ],
   "source": [
    "# Esto convertirá 200 minutos a horas dividiendo por 60.\n",
    "200 / 60"
   ]
  },
  {
   "cell_type": "markdown",
   "id": "8d8789b2-0bba-4682-99bd-791c210aa847",
   "metadata": {},
   "source": [
    "## Autor\n",
    "Thomas Alcalde Rodríguez"
   ]
  },
  {
   "cell_type": "code",
   "execution_count": null,
   "id": "b18cb3e2-a398-45e5-a195-8ee5dbf6e125",
   "metadata": {},
   "outputs": [],
   "source": []
  }
 ],
 "metadata": {
  "kernelspec": {
   "display_name": "Python [conda env:base] *",
   "language": "python",
   "name": "conda-base-py"
  },
  "language_info": {
   "codemirror_mode": {
    "name": "ipython",
    "version": 3
   },
   "file_extension": ".py",
   "mimetype": "text/x-python",
   "name": "python",
   "nbconvert_exporter": "python",
   "pygments_lexer": "ipython3",
   "version": "3.12.7"
  }
 },
 "nbformat": 4,
 "nbformat_minor": 5
}
